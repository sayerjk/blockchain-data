{
 "cells": [
  {
   "cell_type": "code",
   "execution_count": 1,
   "metadata": {},
   "outputs": [
    {
     "name": "stdout",
     "output_type": "stream",
     "text": [
      "time: 520 µs (started: 2022-08-04 01:22:03 +00:00)\n"
     ]
    }
   ],
   "source": [
    "%load_ext autotime"
   ]
  },
  {
   "cell_type": "code",
   "execution_count": 2,
   "metadata": {},
   "outputs": [
    {
     "name": "stdout",
     "output_type": "stream",
     "text": [
      "time: 34.2 ms (started: 2022-08-04 01:22:03 +00:00)\n"
     ]
    }
   ],
   "source": [
    "from near_functions import query_near_testnet, bulk_query\n",
    "import sys\n",
    "import subprocess\n",
    "import re\n",
    "from random import sample"
   ]
  },
  {
   "cell_type": "code",
   "execution_count": 3,
   "metadata": {},
   "outputs": [
    {
     "name": "stdout",
     "output_type": "stream",
     "text": [
      "time: 927 ms (started: 2022-08-04 01:22:03 +00:00)\n"
     ]
    }
   ],
   "source": [
    "q = \"\"\"SELECT emitted_by_contract_account_id AS contract, token_id AS token_id\n",
    "FROM public.assets__non_fungible_token_events\n",
    "WHERE token_old_owner_account_id in ('') AND event_kind in ('MINT')\n",
    "ORDER BY emitted_at_block_timestamp DESC \n",
    "LIMIT 200;\"\"\"\n",
    "\n",
    "results = query_near_testnet(q)"
   ]
  },
  {
   "cell_type": "markdown",
   "metadata": {
    "scrolled": false
   },
   "source": [
    "## Syntax for reference\n",
    "\n",
    "Work on methods to programatically input new CLI commands with this `subprocess.run` function\n",
    "\n",
    "`subprocess.run([\"near\",\"view\",\"\\\"nft.lamns3.testnet\\\"\",\"nft_token\",\"{\\\"token_id\\\":\\\"415\\\"}\"],capture_output=True, text=True).stdout.strip('\\n')` \n",
    "\n",
    "\n",
    "### Change number of randomized samples to return below with `count`\n",
    "Using `random` module's `sample()` function to pull input at random from `results`"
   ]
  },
  {
   "cell_type": "code",
   "execution_count": 4,
   "metadata": {},
   "outputs": [
    {
     "name": "stdout",
     "output_type": "stream",
     "text": [
      "time: 1.23 ms (started: 2022-08-04 01:22:04 +00:00)\n"
     ]
    }
   ],
   "source": [
    "count = 6"
   ]
  },
  {
   "cell_type": "code",
   "execution_count": 5,
   "metadata": {},
   "outputs": [
    {
     "name": "stdout",
     "output_type": "stream",
     "text": [
      "https://assets.change.org/photos/2/lt/qf/TNLTqfJKJcJUwqj-800x450-noPad.jpg?1571334802\n",
      "https://assets.change.org/photos/2/lt/qf/TNLTqfJKJcJUwqj-800x450-noPad.jpg?1571334802\n",
      "https://assets.change.org/photos/2/lt/qf/TNLTqfJKJcJUwqj-800x450-noPad.jpg?1571334802\n",
      "QmTBMQQ37pAjJQEYH3ZkKXi2PDtBHCiuSNMsDyUR2argtm\n",
      "https://bafybeidcenlxc2fha3azwgea33phu4or6k5eedqwifqdoe6ylhysprwjhq.ipfs.dweb.link/1.png\n",
      "No. of results from bulk_query(results):  5\n",
      "time: 5.6 s (started: 2022-08-04 01:22:04 +00:00)\n"
     ]
    }
   ],
   "source": [
    "links = bulk_query(sample(results, count))\n",
    "print(\"No. of results from bulk_query(results): \", len(links))"
   ]
  },
  {
   "cell_type": "markdown",
   "metadata": {},
   "source": [
    "## FIN"
   ]
  }
 ],
 "metadata": {
  "kernelspec": {
   "display_name": "Python 3",
   "language": "python",
   "name": "python3"
  },
  "language_info": {
   "codemirror_mode": {
    "name": "ipython",
    "version": 3
   },
   "file_extension": ".py",
   "mimetype": "text/x-python",
   "name": "python",
   "nbconvert_exporter": "python",
   "pygments_lexer": "ipython3",
   "version": "3.7.0"
  }
 },
 "nbformat": 4,
 "nbformat_minor": 2
}
