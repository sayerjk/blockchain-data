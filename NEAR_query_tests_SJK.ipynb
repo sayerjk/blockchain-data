{
 "cells": [
  {
   "cell_type": "code",
   "execution_count": 1,
   "metadata": {},
   "outputs": [],
   "source": [
    "from near_functions import query_near_testnet\n",
    "import sys\n",
    "import subprocess\n",
    "import re"
   ]
  },
  {
   "cell_type": "code",
   "execution_count": 2,
   "metadata": {},
   "outputs": [],
   "source": [
    "q = \"\"\"select emitted_by_contract_account_id as contract, token_id as token_id FROM public.assets__non_fungible_token_events where token_old_owner_account_id in ('') and event_kind in ('MINT') order by emitted_at_block_timestamp desc limit 10;;\"\"\"\n",
    "\n",
    "results = query_near_testnet(q)"
   ]
  },
  {
   "cell_type": "markdown",
   "metadata": {
    "scrolled": false
   },
   "source": [
    "## Syntax for reference\n",
    "\n",
    "Work on methods to programatically input new CLI commands with this `subprocess.run` function\n",
    "\n",
    "`subprocess.run([\"near\",\"view\",\"\\\"nft.lamns3.testnet\\\"\",\"nft_token\",\"{\\\"token_id\\\":\\\"415\\\"}\"],capture_output=True, text=True).stdout.strip('\\n')` \n",
    "\n",
    "\n",
    "### Change index to view below with `index_to_query`"
   ]
  },
  {
   "cell_type": "code",
   "execution_count": 3,
   "metadata": {},
   "outputs": [],
   "source": [
    "index_to_query = 3"
   ]
  },
  {
   "cell_type": "code",
   "execution_count": 4,
   "metadata": {},
   "outputs": [
    {
     "data": {
      "text/plain": [
       "('dev-1658501693574-27441153030365', '502')"
      ]
     },
     "execution_count": 4,
     "metadata": {},
     "output_type": "execute_result"
    }
   ],
   "source": [
    "contract = results[index_to_query]['emitted_by_contract_account_id']\n",
    "token = results[index_to_query]['token_id']\n",
    "contract, token"
   ]
  },
  {
   "cell_type": "code",
   "execution_count": 5,
   "metadata": {
    "scrolled": true
   },
   "outputs": [],
   "source": [
    "contract = r'\\\"{}\"'.format(contract)"
   ]
  },
  {
   "cell_type": "code",
   "execution_count": 6,
   "metadata": {},
   "outputs": [],
   "source": [
    "token = \"\"\"{{\\\"token_id\\\":\\\"{}\\\"}}\"\"\".format(token)"
   ]
  },
  {
   "cell_type": "code",
   "execution_count": 7,
   "metadata": {
    "scrolled": true
   },
   "outputs": [
    {
     "data": {
      "text/plain": [
       "('\\\\\"dev-1658501693574-27441153030365\"', '{\"token_id\":\"502\"}')"
      ]
     },
     "execution_count": 7,
     "metadata": {},
     "output_type": "execute_result"
    }
   ],
   "source": [
    "contract, token"
   ]
  },
  {
   "cell_type": "code",
   "execution_count": 8,
   "metadata": {},
   "outputs": [],
   "source": [
    "# TODO - Slicing the contract variable is necessary to get results in some queries,\n",
    "# but it sometimes is unneeded and will crop off the first letter of the contract name\n",
    "# Try changing index_to_query in cell 3. \n",
    "\n",
    "x = subprocess.run(\n",
    "    [\n",
    "        \"near\",\"view\", contract[1:], \"nft_token\", token\n",
    "    ],\n",
    "    capture_output=True, text=True\n",
    ").stdout.strip('\\n').lstrip(\"View call: \")"
   ]
  },
  {
   "cell_type": "markdown",
   "metadata": {},
   "source": [
    "### Results:"
   ]
  },
  {
   "cell_type": "code",
   "execution_count": 9,
   "metadata": {
    "scrolled": false
   },
   "outputs": [
    {
     "data": {
      "text/plain": [
       "'dev-1658501693574-27441153030365.nft_token({\"token_id\":\"502\"})\\n{\\n  token_id: \\'502\\',\\n  owner_id: \\'ankitraj67.testnet\\',\\n  metadata: {\\n    title: \\'INITE NFT\\',\\n    description: \\'INITE NFT DESCRIPTION\\',\\n    media: \\'https://inite-module-images.s3.amazonaws.com/network-0.png\\',\\n    media_hash: null,\\n    copies: null,\\n    issued_at: null,\\n    price: \\'1000000000000000000000000\\',\\n    culture: null,\\n    country: null,\\n    creator: \\'dev-1658501693574-27441153030365\\',\\n    on_sale: true,\\n    expires_at: null,\\n    starts_at: null,\\n    updated_at: null,\\n    extra: null,\\n    reference: null,\\n    reference_hash: null\\n  },\\n  approved_account_ids: {}\\n}'"
      ]
     },
     "execution_count": 9,
     "metadata": {},
     "output_type": "execute_result"
    }
   ],
   "source": [
    "x"
   ]
  },
  {
   "cell_type": "markdown",
   "metadata": {},
   "source": [
    "## Data Cleaning Below"
   ]
  },
  {
   "cell_type": "code",
   "execution_count": 10,
   "metadata": {},
   "outputs": [],
   "source": [
    "new = x.split(\"\\n\")"
   ]
  },
  {
   "cell_type": "code",
   "execution_count": 11,
   "metadata": {},
   "outputs": [
    {
     "data": {
      "text/plain": [
       "['dev-1658501693574-27441153030365.nft_token({\"token_id\":\"502\"})',\n",
       " '{',\n",
       " \"token_id: '502',\",\n",
       " \"owner_id: 'ankitraj67.testnet',\",\n",
       " 'metadata: {',\n",
       " \"title: 'INITE NFT',\",\n",
       " \"description: 'INITE NFT DESCRIPTION',\",\n",
       " \"media: 'https://inite-module-images.s3.amazonaws.com/network-0.png',\",\n",
       " 'media_hash: null,',\n",
       " 'copies: null,',\n",
       " 'issued_at: null,',\n",
       " \"price: '1000000000000000000000000',\",\n",
       " 'culture: null,',\n",
       " 'country: null,',\n",
       " \"creator: 'dev-1658501693574-27441153030365',\",\n",
       " 'on_sale: true,',\n",
       " 'expires_at: null,',\n",
       " 'starts_at: null,',\n",
       " 'updated_at: null,',\n",
       " 'extra: null,',\n",
       " 'reference: null,',\n",
       " 'reference_hash: null',\n",
       " '},',\n",
       " 'approved_account_ids: {}',\n",
       " '}']"
      ]
     },
     "execution_count": 11,
     "metadata": {},
     "output_type": "execute_result"
    }
   ],
   "source": [
    "new = [i.strip() for i in new]\n",
    "new"
   ]
  },
  {
   "cell_type": "code",
   "execution_count": 12,
   "metadata": {
    "scrolled": true
   },
   "outputs": [
    {
     "name": "stdout",
     "output_type": "stream",
     "text": [
      "['dev-1658501693574-27441153030365.nft_token({\"token_id\":\"502\"})', \"token_id: '502',\", \"owner_id: 'ankitraj67.testnet',\", 'metadata: {', \"title: 'INITE NFT',\", \"description: 'INITE NFT DESCRIPTION',\", \"media: 'https://inite-module-images.s3.amazonaws.com/network-0.png',\", 'media_hash: null,', 'copies: null,', 'issued_at: null,', \"price: '1000000000000000000000000',\", 'culture: null,', 'country: null,', \"creator: 'dev-1658501693574-27441153030365',\", 'on_sale: true,', 'expires_at: null,', 'starts_at: null,', 'updated_at: null,', 'extra: null,', 'reference: null,', 'reference_hash: null', 'approved_account_ids: {}']\n",
      "\n",
      "https://inite-module-images.s3.amazonaws.com/network-0.png\n"
     ]
    }
   ],
   "source": [
    "found_media = ''\n",
    "\n",
    "for item in new:\n",
    "    if 'View call' in item:\n",
    "        new.remove(item)\n",
    "        continue\n",
    "    if 'media:' in item:\n",
    "        found_media = item\n",
    "    if len(item) < 5:\n",
    "        new.remove(item)\n",
    "        \n",
    "print(new)\n",
    "\n",
    "if found_media and \"null\" not in found_media:\n",
    "    url = re.search(\"(?P<url>https?://[^\\s]+)\", x).group(\"url\")\n",
    "    url = url.rstrip(\"',\")\n",
    "    print()\n",
    "    print(f'{url}')"
   ]
  },
  {
   "cell_type": "markdown",
   "metadata": {},
   "source": [
    "## FIN"
   ]
  }
 ],
 "metadata": {
  "kernelspec": {
   "display_name": "Python 3",
   "language": "python",
   "name": "python3"
  },
  "language_info": {
   "codemirror_mode": {
    "name": "ipython",
    "version": 3
   },
   "file_extension": ".py",
   "mimetype": "text/x-python",
   "name": "python",
   "nbconvert_exporter": "python",
   "pygments_lexer": "ipython3",
   "version": "3.7.0"
  }
 },
 "nbformat": 4,
 "nbformat_minor": 2
}
