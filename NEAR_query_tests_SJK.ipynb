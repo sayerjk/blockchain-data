{
 "cells": [
  {
   "cell_type": "code",
   "execution_count": 1,
   "metadata": {},
   "outputs": [],
   "source": [
    "from near_functions import query_near_testnet\n",
    "import sys\n",
    "import subprocess\n",
    "import re"
   ]
  },
  {
   "cell_type": "code",
   "execution_count": 2,
   "metadata": {},
   "outputs": [],
   "source": [
    "q = \"\"\"SELECT emitted_by_contract_account_id AS contract, token_id AS token_id\n",
    "FROM public.assets__non_fungible_token_events\n",
    "WHERE token_old_owner_account_id in ('') AND event_kind in ('MINT')\n",
    "ORDER BY emitted_at_block_timestamp DESC \n",
    "LIMIT 10;;\"\"\"\n",
    "\n",
    "results = query_near_testnet(q)"
   ]
  },
  {
   "cell_type": "markdown",
   "metadata": {
    "scrolled": false
   },
   "source": [
    "## Syntax for reference\n",
    "\n",
    "Work on methods to programatically input new CLI commands with this `subprocess.run` function\n",
    "\n",
    "`subprocess.run([\"near\",\"view\",\"\\\"nft.lamns3.testnet\\\"\",\"nft_token\",\"{\\\"token_id\\\":\\\"415\\\"}\"],capture_output=True, text=True).stdout.strip('\\n')` \n",
    "\n",
    "\n",
    "### Change index to view below with `index_to_query`"
   ]
  },
  {
   "cell_type": "code",
   "execution_count": 3,
   "metadata": {},
   "outputs": [],
   "source": [
    "index_to_query = 3"
   ]
  },
  {
   "cell_type": "code",
   "execution_count": 4,
   "metadata": {},
   "outputs": [
    {
     "data": {
      "text/plain": [
       "('nft.minimous36.testnet', '2:2')"
      ]
     },
     "execution_count": 4,
     "metadata": {},
     "output_type": "execute_result"
    }
   ],
   "source": [
    "contract = results[index_to_query]['emitted_by_contract_account_id']\n",
    "token = results[index_to_query]['token_id']\n",
    "contract, token"
   ]
  },
  {
   "cell_type": "code",
   "execution_count": 5,
   "metadata": {
    "scrolled": true
   },
   "outputs": [],
   "source": [
    "contract = r'\\\"{}\"'.format(contract)"
   ]
  },
  {
   "cell_type": "code",
   "execution_count": 6,
   "metadata": {},
   "outputs": [],
   "source": [
    "token = \"\"\"{{\\\"token_id\\\":\\\"{}\\\"}}\"\"\".format(token)"
   ]
  },
  {
   "cell_type": "code",
   "execution_count": 7,
   "metadata": {
    "scrolled": true
   },
   "outputs": [
    {
     "data": {
      "text/plain": [
       "('\\\\\"nft.minimous36.testnet\"', '{\"token_id\":\"2:2\"}')"
      ]
     },
     "execution_count": 7,
     "metadata": {},
     "output_type": "execute_result"
    }
   ],
   "source": [
    "contract, token"
   ]
  },
  {
   "cell_type": "code",
   "execution_count": 8,
   "metadata": {},
   "outputs": [],
   "source": [
    "# TODO - Slicing the contract variable is necessary to get results in some queries,\n",
    "# but it sometimes is unneeded and will crop off the first letter of the contract name\n",
    "# Try changing index_to_query in cell 3. \n",
    "\n",
    "x = subprocess.run(\n",
    "    [\n",
    "        \"near\",\"view\", contract[1:], \"nft_token\", token\n",
    "    ],\n",
    "    capture_output=True, text=True\n",
    ").stdout.strip('\\n').lstrip(\"View call: \")"
   ]
  },
  {
   "cell_type": "markdown",
   "metadata": {},
   "source": [
    "### Results:"
   ]
  },
  {
   "cell_type": "code",
   "execution_count": 9,
   "metadata": {
    "scrolled": false
   },
   "outputs": [
    {
     "data": {
      "text/plain": [
       "'nft.minimous36.testnet.nft_token({\"token_id\":\"2:2\"})\\n{\\n  token_id: \\'2:2\\',\\n  owner_id: \\'minimous36.testnet\\',\\n  metadata: {\\n    title: \\'Test #1 #2\\',\\n    description: null,\\n    media: \\'bafybeidzcan4nzcz7sczs4yzyxly4galgygnbjewipj6haco4kffoqpkiy\\',\\n    media_hash: null,\\n    copies: 10,\\n    issued_at: \\'1659561672736435854\\',\\n    expires_at: null,\\n    starts_at: null,\\n    updated_at: null,\\n    extra: null,\\n    reference: \\'bafybeicg4ss7qh5odijfn2eogizuxkrdh3zlv4eftcmgnljwu7dm64uwji\\',\\n    reference_hash: null\\n  },\\n  approved_account_ids: {}\\n}'"
      ]
     },
     "execution_count": 9,
     "metadata": {},
     "output_type": "execute_result"
    }
   ],
   "source": [
    "x"
   ]
  },
  {
   "cell_type": "markdown",
   "metadata": {},
   "source": [
    "## Data Cleaning Below"
   ]
  },
  {
   "cell_type": "code",
   "execution_count": 10,
   "metadata": {},
   "outputs": [],
   "source": [
    "new = x.split(\"\\n\")"
   ]
  },
  {
   "cell_type": "code",
   "execution_count": 11,
   "metadata": {},
   "outputs": [
    {
     "data": {
      "text/plain": [
       "['nft.minimous36.testnet.nft_token({\"token_id\":\"2:2\"})',\n",
       " '{',\n",
       " \"token_id: '2:2',\",\n",
       " \"owner_id: 'minimous36.testnet',\",\n",
       " 'metadata: {',\n",
       " \"title: 'Test #1 #2',\",\n",
       " 'description: null,',\n",
       " \"media: 'bafybeidzcan4nzcz7sczs4yzyxly4galgygnbjewipj6haco4kffoqpkiy',\",\n",
       " 'media_hash: null,',\n",
       " 'copies: 10,',\n",
       " \"issued_at: '1659561672736435854',\",\n",
       " 'expires_at: null,',\n",
       " 'starts_at: null,',\n",
       " 'updated_at: null,',\n",
       " 'extra: null,',\n",
       " \"reference: 'bafybeicg4ss7qh5odijfn2eogizuxkrdh3zlv4eftcmgnljwu7dm64uwji',\",\n",
       " 'reference_hash: null',\n",
       " '},',\n",
       " 'approved_account_ids: {}',\n",
       " '}']"
      ]
     },
     "execution_count": 11,
     "metadata": {},
     "output_type": "execute_result"
    }
   ],
   "source": [
    "new = [i.strip() for i in new]\n",
    "new"
   ]
  },
  {
   "cell_type": "code",
   "execution_count": 12,
   "metadata": {},
   "outputs": [
    {
     "data": {
      "text/plain": [
       "str"
      ]
     },
     "execution_count": 12,
     "metadata": {},
     "output_type": "execute_result"
    }
   ],
   "source": [
    "type(new[7])"
   ]
  },
  {
   "cell_type": "code",
   "execution_count": 13,
   "metadata": {
    "scrolled": true
   },
   "outputs": [
    {
     "name": "stdout",
     "output_type": "stream",
     "text": [
      "['nft.minimous36.testnet.nft_token({\"token_id\":\"2:2\"})', \"token_id: '2:2',\", \"owner_id: 'minimous36.testnet',\", 'metadata: {', \"title: 'Test #1 #2',\", 'description: null,', \"media: 'bafybeidzcan4nzcz7sczs4yzyxly4galgygnbjewipj6haco4kffoqpkiy',\", 'media_hash: null,', 'copies: 10,', \"issued_at: '1659561672736435854',\", 'expires_at: null,', 'starts_at: null,', 'updated_at: null,', 'extra: null,', \"reference: 'bafybeicg4ss7qh5odijfn2eogizuxkrdh3zlv4eftcmgnljwu7dm64uwji',\", 'reference_hash: null', 'approved_account_ids: {}']\n",
      "media: 'bafybeidzcan4nzcz7sczs4yzyxly4galgygnbjewipj6haco4kffoqpkiy',\n",
      "\n",
      "bafybeidzcan4nzcz7sczs4yzyxly4galgygnbjewipj6haco4kffoqpkiy\n"
     ]
    }
   ],
   "source": [
    "found_media = ''\n",
    "\n",
    "for item in new:\n",
    "    if 'View call' in item:\n",
    "        new.remove(item)\n",
    "        continue\n",
    "    if 'media:' in item:\n",
    "        found_media = item\n",
    "    if len(item) < 5:\n",
    "        new.remove(item)\n",
    "        \n",
    "print(new)\n",
    "print(found_media)\n",
    "\n",
    "if len(found_media) > 1 and \"null\" not in found_media:\n",
    "    found_media = found_media.lstrip(\"media: '\")\n",
    "    found_media = found_media.rstrip(\"',\")\n",
    "    print()\n",
    "    print(found_media)"
   ]
  },
  {
   "cell_type": "markdown",
   "metadata": {},
   "source": [
    "## FIN"
   ]
  }
 ],
 "metadata": {
  "kernelspec": {
   "display_name": "Python 3",
   "language": "python",
   "name": "python3"
  },
  "language_info": {
   "codemirror_mode": {
    "name": "ipython",
    "version": 3
   },
   "file_extension": ".py",
   "mimetype": "text/x-python",
   "name": "python",
   "nbconvert_exporter": "python",
   "pygments_lexer": "ipython3",
   "version": "3.7.0"
  }
 },
 "nbformat": 4,
 "nbformat_minor": 2
}
